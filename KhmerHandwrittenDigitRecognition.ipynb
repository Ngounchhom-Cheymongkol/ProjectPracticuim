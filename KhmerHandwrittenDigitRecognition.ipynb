{
 "cells": [
  {
   "cell_type": "code",
   "execution_count": 30,
   "id": "fbcdecda",
   "metadata": {},
   "outputs": [],
   "source": [
    "import numpy as np\n",
    "import cv2 as cv\n",
    "import os\n",
    "from sklearn.model_selection import train_test_split\n",
    "import matplotlib.pyplot as plt"
   ]
  },
  {
   "cell_type": "code",
   "execution_count": 35,
   "id": "f2ccc24a",
   "metadata": {},
   "outputs": [],
   "source": [
    "path = 'Datasets' #main datasets folder (FolderName: Datasets)\n",
    "imageDimensions= (64,64,3)\n",
    "testRatio=0.2 #Percentage for split datasets\n",
    "count = 0\n",
    "images = []  # for store of image data list \n",
    "classNo = [] # for store class (0-9) follow image data list index"
   ]
  },
  {
   "cell_type": "code",
   "execution_count": 36,
   "id": "a1f6c555",
   "metadata": {},
   "outputs": [
    {
     "name": "stdout",
     "output_type": "stream",
     "text": [
      "Total Classes Detected: 10\n",
      "Importing Classes .......\n",
      "0 1 2 3 4 5 6 7 8 9  \n",
      "Total Images in Images List =  17017\n",
      "Total IDS in classNo List=  17017\n"
     ]
    }
   ],
   "source": [
    "myList = os.listdir(path) #read element from Datasets such as (folderName: 0,1,2,3,4,5,6,7,8,9)\n",
    "print(\"Total Classes Detected:\",len(myList))\n",
    "NumberOfClasses = len(myList)\n",
    "print(\"Importing Classes .......\")\n",
    "for x in range (0,NumberOfClasses):\n",
    "    myPicList = os.listdir(path+\"/\"+str(x))\n",
    "    for y in myPicList:\n",
    "        curImg = cv.imread(path+\"/\"+str(x)+\"/\"+y)\n",
    "        curImg=cv.cvtColor(curImg,cv.COLOR_BGR2GRAY)\n",
    "        curImg = cv.resize(curImg,(64,64),interpolation=cv.INTER_AREA)\n",
    "        images.append(curImg) # write image to python list.\n",
    "        classNo.append(x) # write class of each element to python list.\n",
    "    print(x,end= \" \") # print complete folder which already wrote to list. \n",
    "print(\" \")\n",
    "print(\"Total Images in Images List = \",len(images))\n",
    "print(\"Total IDS in classNo List= \",len(classNo))"
   ]
  },
  {
   "cell_type": "code",
   "execution_count": 37,
   "id": "b00522fd",
   "metadata": {},
   "outputs": [
    {
     "name": "stdout",
     "output_type": "stream",
     "text": [
      "(17017, 64, 64)\n"
     ]
    }
   ],
   "source": [
    "images = np.array(images)\n",
    "classNo = np.array(classNo)\n",
    "print(images.shape)"
   ]
  },
  {
   "cell_type": "code",
   "execution_count": 38,
   "id": "4f7e2f39",
   "metadata": {},
   "outputs": [
    {
     "name": "stdout",
     "output_type": "stream",
     "text": [
      "(13613, 64, 64)\n",
      "(3404, 64, 64)\n",
      "(13613,)\n",
      "(3404,)\n"
     ]
    }
   ],
   "source": [
    "# using Sklearn to split dataset\n",
    "x_train,x_test,y_train,y_test = train_test_split(images,classNo,test_size=testRatio)\n",
    "print(x_train.shape)\n",
    "print(x_test.shape)\n",
    "print(y_train.shape)\n",
    "print(y_test.shape)"
   ]
  },
  {
   "cell_type": "code",
   "execution_count": 39,
   "id": "e6e70752",
   "metadata": {},
   "outputs": [
    {
     "name": "stdout",
     "output_type": "stream",
     "text": [
      "(13613, 64, 64, 1)\n",
      "(3404, 64, 64, 1)\n"
     ]
    }
   ],
   "source": [
    "import numpy as np\n",
    "IMG_SIZE=64\n",
    "x_trainr=np.array(x_train).reshape(-1,IMG_SIZE,IMG_SIZE,1)\n",
    "x_testr=np.array(x_test).reshape(-1,IMG_SIZE,IMG_SIZE,1)\n",
    "print(x_trainr.shape)\n",
    "print(x_testr.shape)"
   ]
  },
  {
   "cell_type": "code",
   "execution_count": 40,
   "id": "cb8f1dc2",
   "metadata": {},
   "outputs": [
    {
     "name": "stdout",
     "output_type": "stream",
     "text": [
      "2\n"
     ]
    },
    {
     "data": {
      "image/png": "[encoded data removed]",
      "text/plain": [
       "<Figure size 432x288 with 1 Axes>"
      ]
     },
     "metadata": {
      "needs_background": "light"
     },
     "output_type": "display_data"
    },
    {
     "data": {
      "text/plain": [
       "<matplotlib.image.AxesImage at 0x20183a9c3d0>"
      ]
     },
     "execution_count": 40,
     "metadata": {},
     "output_type": "execute_result"
    },
    {
     "data": {
      "image/png": "[encoded data removed]",
      "text/plain": [
       "<Figure size 432x288 with 1 Axes>"
      ]
     },
     "metadata": {
      "needs_background": "light"
     },
     "output_type": "display_data"
    }
   ],
   "source": [
    "plt.imshow(x_trainr[5]) # print value of image in mathplotlib\n",
    "print(y_train[5]) # print class value Xtrain above\n",
    "plt.show()\n",
    "plt.imshow(x_trainr[5],cmap=plt.cm.binary)"
   ]
  },
  {
   "cell_type": "code",
   "execution_count": null,
   "id": "7f950e97",
   "metadata": {},
   "outputs": [],
   "source": []
  }
 ],
 "metadata": {
  "kernelspec": {
   "display_name": "Python 3 (ipykernel)",
   "language": "python",
   "name": "python3"
  },
  "language_info": {
   "codemirror_mode": {
    "name": "ipython",
    "version": 3
   },
   "file_extension": ".py",
   "mimetype": "text/x-python",
   "name": "python",
   "nbconvert_exporter": "python",
   "pygments_lexer": "ipython3",
   "version": "3.9.7"
  }
 },
 "nbformat": 4,
 "nbformat_minor": 5
}
